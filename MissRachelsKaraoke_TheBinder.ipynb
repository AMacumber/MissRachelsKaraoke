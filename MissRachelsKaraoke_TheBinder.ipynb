{
 "cells": [
  {
   "cell_type": "markdown",
   "metadata": {},
   "source": [
    "# Miss Rachels Karaoke\n",
    "\n",
    "\n",
    "## Organising the binder\n",
    "\n",
    "\n",
    "### Import Libaries"
   ]
  },
  {
   "cell_type": "code",
   "execution_count": 2,
   "metadata": {},
   "outputs": [
    {
     "name": "stdout",
     "output_type": "stream",
     "text": [
      "Libraries Imported\n"
     ]
    }
   ],
   "source": [
    "import pandas as pd\n",
    "import numpy as np\n",
    "\n",
    "print(\"Libraries Imported\")"
   ]
  },
  {
   "cell_type": "markdown",
   "metadata": {},
   "source": [
    "### Import Data\n",
    "\n",
    "\n",
    "Make Python Object"
   ]
  },
  {
   "cell_type": "code",
   "execution_count": 45,
   "metadata": {},
   "outputs": [],
   "source": [
    "songs_df001 = pd.read_csv('Songs.csv', encoding = 'mbcs')"
   ]
  },
  {
   "cell_type": "markdown",
   "metadata": {},
   "source": [
    "Look At Data Structure"
   ]
  },
  {
   "cell_type": "code",
   "execution_count": 46,
   "metadata": {},
   "outputs": [
    {
     "name": "stdout",
     "output_type": "stream",
     "text": [
      "(58714, 7)\n"
     ]
    },
    {
     "data": {
      "text/html": [
       "<div>\n",
       "<style scoped>\n",
       "    .dataframe tbody tr th:only-of-type {\n",
       "        vertical-align: middle;\n",
       "    }\n",
       "\n",
       "    .dataframe tbody tr th {\n",
       "        vertical-align: top;\n",
       "    }\n",
       "\n",
       "    .dataframe thead th {\n",
       "        text-align: right;\n",
       "    }\n",
       "</style>\n",
       "<table border=\"1\" class=\"dataframe\">\n",
       "  <thead>\n",
       "    <tr style=\"text-align: right;\">\n",
       "      <th></th>\n",
       "      <th>SongID</th>\n",
       "      <th>Artist</th>\n",
       "      <th>Title</th>\n",
       "      <th>DiscID</th>\n",
       "      <th>File</th>\n",
       "      <th>TrackNo</th>\n",
       "      <th>\"Genre\"</th>\n",
       "    </tr>\n",
       "  </thead>\n",
       "  <tbody>\n",
       "    <tr>\n",
       "      <th>0</th>\n",
       "      <td>58292</td>\n",
       "      <td>NaN</td>\n",
       "      <td>NaN</td>\n",
       "      <td>NaN</td>\n",
       "      <td>NaN</td>\n",
       "      <td>NaN</td>\n",
       "      <td>NaN</td>\n",
       "    </tr>\n",
       "    <tr>\n",
       "      <th>1</th>\n",
       "      <td>58293</td>\n",
       "      <td>NaN</td>\n",
       "      <td>NaN</td>\n",
       "      <td>NaN</td>\n",
       "      <td>NaN</td>\n",
       "      <td>NaN</td>\n",
       "      <td>NaN</td>\n",
       "    </tr>\n",
       "    <tr>\n",
       "      <th>2</th>\n",
       "      <td>58294</td>\n",
       "      <td>NaN</td>\n",
       "      <td>NaN</td>\n",
       "      <td>NaN</td>\n",
       "      <td>NaN</td>\n",
       "      <td>NaN</td>\n",
       "      <td>NaN</td>\n",
       "    </tr>\n",
       "    <tr>\n",
       "      <th>3</th>\n",
       "      <td>58295</td>\n",
       "      <td>NaN</td>\n",
       "      <td>NaN</td>\n",
       "      <td>NaN</td>\n",
       "      <td>NaN</td>\n",
       "      <td>NaN</td>\n",
       "      <td>NaN</td>\n",
       "    </tr>\n",
       "    <tr>\n",
       "      <th>4</th>\n",
       "      <td>58296</td>\n",
       "      <td>NaN</td>\n",
       "      <td>NaN</td>\n",
       "      <td>NaN</td>\n",
       "      <td>NaN</td>\n",
       "      <td>NaN</td>\n",
       "      <td>NaN</td>\n",
       "    </tr>\n",
       "  </tbody>\n",
       "</table>\n",
       "</div>"
      ],
      "text/plain": [
       "   SongID Artist Title DiscID File TrackNo  \"Genre\"\n",
       "0   58292    NaN   NaN    NaN  NaN     NaN      NaN\n",
       "1   58293    NaN   NaN    NaN  NaN     NaN      NaN\n",
       "2   58294    NaN   NaN    NaN  NaN     NaN      NaN\n",
       "3   58295    NaN   NaN    NaN  NaN     NaN      NaN\n",
       "4   58296    NaN   NaN    NaN  NaN     NaN      NaN"
      ]
     },
     "execution_count": 46,
     "metadata": {},
     "output_type": "execute_result"
    }
   ],
   "source": [
    "print(songs_df001.shape)\n",
    "songs_df001.head(5)"
   ]
  },
  {
   "cell_type": "markdown",
   "metadata": {},
   "source": [
    "Remove all columns apart from Song and Artist"
   ]
  },
  {
   "cell_type": "code",
   "execution_count": 47,
   "metadata": {},
   "outputs": [
    {
     "data": {
      "text/html": [
       "<div>\n",
       "<style scoped>\n",
       "    .dataframe tbody tr th:only-of-type {\n",
       "        vertical-align: middle;\n",
       "    }\n",
       "\n",
       "    .dataframe tbody tr th {\n",
       "        vertical-align: top;\n",
       "    }\n",
       "\n",
       "    .dataframe thead th {\n",
       "        text-align: right;\n",
       "    }\n",
       "</style>\n",
       "<table border=\"1\" class=\"dataframe\">\n",
       "  <thead>\n",
       "    <tr style=\"text-align: right;\">\n",
       "      <th></th>\n",
       "      <th>SongID</th>\n",
       "      <th>Artist</th>\n",
       "      <th>Title</th>\n",
       "    </tr>\n",
       "  </thead>\n",
       "  <tbody>\n",
       "    <tr>\n",
       "      <th>0</th>\n",
       "      <td>58292</td>\n",
       "      <td>NaN</td>\n",
       "      <td>NaN</td>\n",
       "    </tr>\n",
       "    <tr>\n",
       "      <th>1</th>\n",
       "      <td>58293</td>\n",
       "      <td>NaN</td>\n",
       "      <td>NaN</td>\n",
       "    </tr>\n",
       "    <tr>\n",
       "      <th>2</th>\n",
       "      <td>58294</td>\n",
       "      <td>NaN</td>\n",
       "      <td>NaN</td>\n",
       "    </tr>\n",
       "    <tr>\n",
       "      <th>3</th>\n",
       "      <td>58295</td>\n",
       "      <td>NaN</td>\n",
       "      <td>NaN</td>\n",
       "    </tr>\n",
       "    <tr>\n",
       "      <th>4</th>\n",
       "      <td>58296</td>\n",
       "      <td>NaN</td>\n",
       "      <td>NaN</td>\n",
       "    </tr>\n",
       "  </tbody>\n",
       "</table>\n",
       "</div>"
      ],
      "text/plain": [
       "   SongID Artist Title\n",
       "0   58292    NaN   NaN\n",
       "1   58293    NaN   NaN\n",
       "2   58294    NaN   NaN\n",
       "3   58295    NaN   NaN\n",
       "4   58296    NaN   NaN"
      ]
     },
     "execution_count": 47,
     "metadata": {},
     "output_type": "execute_result"
    }
   ],
   "source": [
    "songs_columns = songs_df001\n",
    "\n",
    "songs_df002 = songs_columns[['SongID','Artist','Title']]\n",
    "songs_df002.head(5)"
   ]
  },
  {
   "cell_type": "markdown",
   "metadata": {},
   "source": [
    "### Format Entries To Facilitate Duplicate Removal\n",
    "\n",
    "\n",
    "#### Information Not Required For Binder\n",
    "\n",
    "NaN Values"
   ]
  },
  {
   "cell_type": "code",
   "execution_count": 50,
   "metadata": {},
   "outputs": [
    {
     "name": "stdout",
     "output_type": "stream",
     "text": [
      "(58714, 3)\n",
      "(58630, 3)\n"
     ]
    },
    {
     "data": {
      "text/html": [
       "<div>\n",
       "<style scoped>\n",
       "    .dataframe tbody tr th:only-of-type {\n",
       "        vertical-align: middle;\n",
       "    }\n",
       "\n",
       "    .dataframe tbody tr th {\n",
       "        vertical-align: top;\n",
       "    }\n",
       "\n",
       "    .dataframe thead th {\n",
       "        text-align: right;\n",
       "    }\n",
       "</style>\n",
       "<table border=\"1\" class=\"dataframe\">\n",
       "  <thead>\n",
       "    <tr style=\"text-align: right;\">\n",
       "      <th></th>\n",
       "      <th>SongID</th>\n",
       "      <th>Artist</th>\n",
       "      <th>Title</th>\n",
       "    </tr>\n",
       "  </thead>\n",
       "  <tbody>\n",
       "    <tr>\n",
       "      <th>82</th>\n",
       "      <td>19098</td>\n",
       "      <td>ABBA</td>\n",
       "      <td>Bang A Boomerang</td>\n",
       "    </tr>\n",
       "    <tr>\n",
       "      <th>83</th>\n",
       "      <td>57483</td>\n",
       "      <td>ABBA</td>\n",
       "      <td>Bang A Boomerang</td>\n",
       "    </tr>\n",
       "    <tr>\n",
       "      <th>84</th>\n",
       "      <td>19105</td>\n",
       "      <td>ABBA</td>\n",
       "      <td>Fernando</td>\n",
       "    </tr>\n",
       "    <tr>\n",
       "      <th>85</th>\n",
       "      <td>57490</td>\n",
       "      <td>ABBA</td>\n",
       "      <td>Fernando</td>\n",
       "    </tr>\n",
       "    <tr>\n",
       "      <th>86</th>\n",
       "      <td>19113</td>\n",
       "      <td>ABBA</td>\n",
       "      <td>I Do I Do I Do I Do</td>\n",
       "    </tr>\n",
       "  </tbody>\n",
       "</table>\n",
       "</div>"
      ],
      "text/plain": [
       "    SongID Artist                Title\n",
       "82   19098   ABBA     Bang A Boomerang\n",
       "83   57483   ABBA     Bang A Boomerang\n",
       "84   19105   ABBA             Fernando\n",
       "85   57490   ABBA             Fernando\n",
       "86   19113   ABBA  I Do I Do I Do I Do"
      ]
     },
     "execution_count": 50,
     "metadata": {},
     "output_type": "execute_result"
    }
   ],
   "source": [
    "songs_nan = songs_df002\n",
    "\n",
    "songs_df003 = songs_nan.dropna(axis = 0)\n",
    "\n",
    "print(songs_df002.shape)\n",
    "print(songs_df003.shape)\n",
    "\n",
    "songs_df003.head()"
   ]
  },
  {
   "cell_type": "markdown",
   "metadata": {},
   "source": [
    "Get rid of ' [ ' values"
   ]
  },
  {
   "cell_type": "code",
   "execution_count": 51,
   "metadata": {
    "scrolled": true
   },
   "outputs": [
    {
     "name": "stderr",
     "output_type": "stream",
     "text": [
      "C:\\DataScience\\lib\\site-packages\\ipykernel_launcher.py:8: SettingWithCopyWarning: \n",
      "A value is trying to be set on a copy of a slice from a DataFrame\n",
      "\n",
      "See the caveats in the documentation: http://pandas.pydata.org/pandas-docs/stable/indexing.html#indexing-view-versus-copy\n",
      "  \n"
     ]
    },
    {
     "data": {
      "text/html": [
       "<div>\n",
       "<style scoped>\n",
       "    .dataframe tbody tr th:only-of-type {\n",
       "        vertical-align: middle;\n",
       "    }\n",
       "\n",
       "    .dataframe tbody tr th {\n",
       "        vertical-align: top;\n",
       "    }\n",
       "\n",
       "    .dataframe thead th {\n",
       "        text-align: right;\n",
       "    }\n",
       "</style>\n",
       "<table border=\"1\" class=\"dataframe\">\n",
       "  <thead>\n",
       "    <tr style=\"text-align: right;\">\n",
       "      <th></th>\n",
       "      <th>SongID</th>\n",
       "      <th>Artist</th>\n",
       "      <th>Title</th>\n",
       "    </tr>\n",
       "  </thead>\n",
       "  <tbody>\n",
       "    <tr>\n",
       "      <th>82</th>\n",
       "      <td>19098</td>\n",
       "      <td>ABBA</td>\n",
       "      <td>Bang A Boomerang</td>\n",
       "    </tr>\n",
       "    <tr>\n",
       "      <th>83</th>\n",
       "      <td>57483</td>\n",
       "      <td>ABBA</td>\n",
       "      <td>Bang A Boomerang</td>\n",
       "    </tr>\n",
       "    <tr>\n",
       "      <th>84</th>\n",
       "      <td>19105</td>\n",
       "      <td>ABBA</td>\n",
       "      <td>Fernando</td>\n",
       "    </tr>\n",
       "    <tr>\n",
       "      <th>85</th>\n",
       "      <td>57490</td>\n",
       "      <td>ABBA</td>\n",
       "      <td>Fernando</td>\n",
       "    </tr>\n",
       "    <tr>\n",
       "      <th>86</th>\n",
       "      <td>19113</td>\n",
       "      <td>ABBA</td>\n",
       "      <td>I Do I Do I Do I Do</td>\n",
       "    </tr>\n",
       "  </tbody>\n",
       "</table>\n",
       "</div>"
      ],
      "text/plain": [
       "    SongID Artist                Title\n",
       "82   19098   ABBA     Bang A Boomerang\n",
       "83   57483   ABBA     Bang A Boomerang\n",
       "84   19105   ABBA             Fernando\n",
       "85   57490   ABBA             Fernando\n",
       "86   19113   ABBA  I Do I Do I Do I Do"
      ]
     },
     "execution_count": 51,
     "metadata": {},
     "output_type": "execute_result"
    }
   ],
   "source": [
    "songs_brackets = songs_df003\n",
    "\n",
    "for i in range(len(songs_brackets['Title'])):\n",
    "    title = songs_brackets['Title'].iloc[i]\n",
    "    if title.find('[') != -1:\n",
    "        breakpoint = title.find('[')\n",
    "        keep = title[:breakpoint-1]\n",
    "        songs_brackets['Title'].iloc[i] = keep\n",
    "\n",
    "songs_df004 = songs_brackets\n",
    "songs_df004.head()"
   ]
  },
  {
   "cell_type": "markdown",
   "metadata": {},
   "source": [
    "Get rid of periods in Title"
   ]
  },
  {
   "cell_type": "code",
   "execution_count": 52,
   "metadata": {},
   "outputs": [
    {
     "name": "stderr",
     "output_type": "stream",
     "text": [
      "C:\\DataScience\\lib\\site-packages\\ipykernel_launcher.py:7: SettingWithCopyWarning: \n",
      "A value is trying to be set on a copy of a slice from a DataFrame\n",
      "\n",
      "See the caveats in the documentation: http://pandas.pydata.org/pandas-docs/stable/indexing.html#indexing-view-versus-copy\n",
      "  import sys\n"
     ]
    },
    {
     "data": {
      "text/html": [
       "<div>\n",
       "<style scoped>\n",
       "    .dataframe tbody tr th:only-of-type {\n",
       "        vertical-align: middle;\n",
       "    }\n",
       "\n",
       "    .dataframe tbody tr th {\n",
       "        vertical-align: top;\n",
       "    }\n",
       "\n",
       "    .dataframe thead th {\n",
       "        text-align: right;\n",
       "    }\n",
       "</style>\n",
       "<table border=\"1\" class=\"dataframe\">\n",
       "  <thead>\n",
       "    <tr style=\"text-align: right;\">\n",
       "      <th></th>\n",
       "      <th>SongID</th>\n",
       "      <th>Artist</th>\n",
       "      <th>Title</th>\n",
       "    </tr>\n",
       "  </thead>\n",
       "  <tbody>\n",
       "    <tr>\n",
       "      <th>82</th>\n",
       "      <td>19098</td>\n",
       "      <td>ABBA</td>\n",
       "      <td>Bang A Boomerang</td>\n",
       "    </tr>\n",
       "    <tr>\n",
       "      <th>83</th>\n",
       "      <td>57483</td>\n",
       "      <td>ABBA</td>\n",
       "      <td>Bang A Boomerang</td>\n",
       "    </tr>\n",
       "    <tr>\n",
       "      <th>84</th>\n",
       "      <td>19105</td>\n",
       "      <td>ABBA</td>\n",
       "      <td>Fernando</td>\n",
       "    </tr>\n",
       "    <tr>\n",
       "      <th>85</th>\n",
       "      <td>57490</td>\n",
       "      <td>ABBA</td>\n",
       "      <td>Fernando</td>\n",
       "    </tr>\n",
       "    <tr>\n",
       "      <th>86</th>\n",
       "      <td>19113</td>\n",
       "      <td>ABBA</td>\n",
       "      <td>I Do I Do I Do I Do</td>\n",
       "    </tr>\n",
       "  </tbody>\n",
       "</table>\n",
       "</div>"
      ],
      "text/plain": [
       "    SongID Artist                Title\n",
       "82   19098   ABBA     Bang A Boomerang\n",
       "83   57483   ABBA     Bang A Boomerang\n",
       "84   19105   ABBA             Fernando\n",
       "85   57490   ABBA             Fernando\n",
       "86   19113   ABBA  I Do I Do I Do I Do"
      ]
     },
     "execution_count": 52,
     "metadata": {},
     "output_type": "execute_result"
    }
   ],
   "source": [
    "songs_periods = songs_df004\n",
    "\n",
    "for i in range(len(songs_periods['Title'])):\n",
    "    title = songs_periods['Title'].iloc[i]\n",
    "    if title.find('.') != -1:\n",
    "        keep = title.replace('.','')\n",
    "        songs_periods['Title'].iloc[i] = keep\n",
    "        \n",
    "songs_df005 = songs_periods\n",
    "songs_df005.head()"
   ]
  },
  {
   "cell_type": "markdown",
   "metadata": {},
   "source": [
    "Get rid of commas in Title"
   ]
  },
  {
   "cell_type": "code",
   "execution_count": 53,
   "metadata": {
    "scrolled": true
   },
   "outputs": [
    {
     "name": "stderr",
     "output_type": "stream",
     "text": [
      "C:\\DataScience\\lib\\site-packages\\ipykernel_launcher.py:7: SettingWithCopyWarning: \n",
      "A value is trying to be set on a copy of a slice from a DataFrame\n",
      "\n",
      "See the caveats in the documentation: http://pandas.pydata.org/pandas-docs/stable/indexing.html#indexing-view-versus-copy\n",
      "  import sys\n"
     ]
    },
    {
     "data": {
      "text/html": [
       "<div>\n",
       "<style scoped>\n",
       "    .dataframe tbody tr th:only-of-type {\n",
       "        vertical-align: middle;\n",
       "    }\n",
       "\n",
       "    .dataframe tbody tr th {\n",
       "        vertical-align: top;\n",
       "    }\n",
       "\n",
       "    .dataframe thead th {\n",
       "        text-align: right;\n",
       "    }\n",
       "</style>\n",
       "<table border=\"1\" class=\"dataframe\">\n",
       "  <thead>\n",
       "    <tr style=\"text-align: right;\">\n",
       "      <th></th>\n",
       "      <th>SongID</th>\n",
       "      <th>Artist</th>\n",
       "      <th>Title</th>\n",
       "    </tr>\n",
       "  </thead>\n",
       "  <tbody>\n",
       "    <tr>\n",
       "      <th>82</th>\n",
       "      <td>19098</td>\n",
       "      <td>ABBA</td>\n",
       "      <td>Bang A Boomerang</td>\n",
       "    </tr>\n",
       "    <tr>\n",
       "      <th>83</th>\n",
       "      <td>57483</td>\n",
       "      <td>ABBA</td>\n",
       "      <td>Bang A Boomerang</td>\n",
       "    </tr>\n",
       "    <tr>\n",
       "      <th>84</th>\n",
       "      <td>19105</td>\n",
       "      <td>ABBA</td>\n",
       "      <td>Fernando</td>\n",
       "    </tr>\n",
       "    <tr>\n",
       "      <th>85</th>\n",
       "      <td>57490</td>\n",
       "      <td>ABBA</td>\n",
       "      <td>Fernando</td>\n",
       "    </tr>\n",
       "    <tr>\n",
       "      <th>86</th>\n",
       "      <td>19113</td>\n",
       "      <td>ABBA</td>\n",
       "      <td>I Do I Do I Do I Do</td>\n",
       "    </tr>\n",
       "  </tbody>\n",
       "</table>\n",
       "</div>"
      ],
      "text/plain": [
       "    SongID Artist                Title\n",
       "82   19098   ABBA     Bang A Boomerang\n",
       "83   57483   ABBA     Bang A Boomerang\n",
       "84   19105   ABBA             Fernando\n",
       "85   57490   ABBA             Fernando\n",
       "86   19113   ABBA  I Do I Do I Do I Do"
      ]
     },
     "execution_count": 53,
     "metadata": {},
     "output_type": "execute_result"
    }
   ],
   "source": [
    "songs_commas = songs_df005\n",
    "\n",
    "for i in range(len(songs_commas['Title'])):\n",
    "    title = songs_commas['Title'].iloc[i]\n",
    "    if title.find(',') != -1:\n",
    "        keep = title.replace(',','')\n",
    "        songs_commas['Title'].iloc[i] = keep\n",
    "        \n",
    "songs_df006 = songs_commas\n",
    "songs_df006.head()"
   ]
  },
  {
   "cell_type": "markdown",
   "metadata": {},
   "source": [
    "#### Information Required For Binder\n",
    "\n",
    "\n",
    "Make 'Title' and 'Artist' Values Uppercase"
   ]
  },
  {
   "cell_type": "code",
   "execution_count": 14,
   "metadata": {},
   "outputs": [
    {
     "name": "stdout",
     "output_type": "stream",
     "text": [
      "    SongID Artist                Title\n",
      "82   19098   ABBA     BANG A BOOMERANG\n",
      "83   57483   ABBA     BANG A BOOMERANG\n",
      "84   19105   ABBA             FERNANDO\n",
      "85   57490   ABBA             FERNANDO\n",
      "86   19113   ABBA  I DO I DO I DO I DO\n"
     ]
    },
    {
     "name": "stderr",
     "output_type": "stream",
     "text": [
      "C:\\DataScience\\lib\\site-packages\\ipykernel_launcher.py:3: SettingWithCopyWarning: \n",
      "A value is trying to be set on a copy of a slice from a DataFrame.\n",
      "Try using .loc[row_indexer,col_indexer] = value instead\n",
      "\n",
      "See the caveats in the documentation: http://pandas.pydata.org/pandas-docs/stable/indexing.html#indexing-view-versus-copy\n",
      "  This is separate from the ipykernel package so we can avoid doing imports until\n",
      "C:\\DataScience\\lib\\site-packages\\ipykernel_launcher.py:4: SettingWithCopyWarning: \n",
      "A value is trying to be set on a copy of a slice from a DataFrame.\n",
      "Try using .loc[row_indexer,col_indexer] = value instead\n",
      "\n",
      "See the caveats in the documentation: http://pandas.pydata.org/pandas-docs/stable/indexing.html#indexing-view-versus-copy\n",
      "  after removing the cwd from sys.path.\n"
     ]
    }
   ],
   "source": [
    "songs_uppercase = songs_df006\n",
    "\n",
    "songs_uppercase['Artist'] = songs_uppercase['Artist'].str.upper()\n",
    "songs_uppercase['Title'] = songs_uppercase['Title'].str.upper()\n",
    "print(songs_uppercase.head(5))\n",
    "\n",
    "songs_df007 = songs_uppercase"
   ]
  },
  {
   "cell_type": "markdown",
   "metadata": {},
   "source": [
    "Get rid of ' (' values"
   ]
  },
  {
   "cell_type": "code",
   "execution_count": 15,
   "metadata": {},
   "outputs": [
    {
     "name": "stderr",
     "output_type": "stream",
     "text": [
      "C:\\DataScience\\lib\\site-packages\\ipykernel_launcher.py:8: SettingWithCopyWarning: \n",
      "A value is trying to be set on a copy of a slice from a DataFrame\n",
      "\n",
      "See the caveats in the documentation: http://pandas.pydata.org/pandas-docs/stable/indexing.html#indexing-view-versus-copy\n",
      "  \n"
     ]
    }
   ],
   "source": [
    "songs_curvebrackets = songs_df007\n",
    "\n",
    "for i in range(len(songs_curvebrackets['Title'])):\n",
    "    title = songs_curvebrackets['Title'].iloc[i]\n",
    "    if title.find('(') != -1:\n",
    "        breakpoint = title.find('(')\n",
    "        keep = title[:breakpoint-1]\n",
    "        songs_curvebrackets['Title'].iloc[i] = keep\n",
    "\n",
    "songs_df008 = songs_curvebrackets"
   ]
  },
  {
   "cell_type": "markdown",
   "metadata": {},
   "source": [
    "Get rid of '&' values"
   ]
  },
  {
   "cell_type": "code",
   "execution_count": 16,
   "metadata": {},
   "outputs": [
    {
     "name": "stderr",
     "output_type": "stream",
     "text": [
      "C:\\DataScience\\lib\\site-packages\\ipykernel_launcher.py:8: SettingWithCopyWarning: \n",
      "A value is trying to be set on a copy of a slice from a DataFrame\n",
      "\n",
      "See the caveats in the documentation: http://pandas.pydata.org/pandas-docs/stable/indexing.html#indexing-view-versus-copy\n",
      "  \n"
     ]
    }
   ],
   "source": [
    "songs_andsign = songs_df008\n",
    "\n",
    "for i in range(len(songs_andsign['Artist'])):\n",
    "    artist = songs_andsign['Artist'].iloc[i]\n",
    "    if artist.find(' & ') != -1:\n",
    "        breakpoint = artist.find(' & ')\n",
    "        keep = artist[:breakpoint]\n",
    "        songs_andsign['Artist'].iloc[i] = keep\n",
    "        \n",
    "songs_df009 = songs_andsign"
   ]
  },
  {
   "cell_type": "markdown",
   "metadata": {},
   "source": [
    "Get rid of ' FT ' values"
   ]
  },
  {
   "cell_type": "code",
   "execution_count": 17,
   "metadata": {},
   "outputs": [
    {
     "name": "stderr",
     "output_type": "stream",
     "text": [
      "C:\\DataScience\\lib\\site-packages\\ipykernel_launcher.py:8: SettingWithCopyWarning: \n",
      "A value is trying to be set on a copy of a slice from a DataFrame\n",
      "\n",
      "See the caveats in the documentation: http://pandas.pydata.org/pandas-docs/stable/indexing.html#indexing-view-versus-copy\n",
      "  \n"
     ]
    }
   ],
   "source": [
    "songs_FT = songs_df009\n",
    "\n",
    "for i in range(len(songs_FT['Artist'])):\n",
    "    artist = songs_FT['Artist'].iloc[i]\n",
    "    if artist.find(' FT ') != -1:\n",
    "        breakpoint = artist.find(' FT ')\n",
    "        keep = artist[:breakpoint]\n",
    "        songs_FT['Artist'].iloc[i] = keep\n",
    "        \n",
    "songs_df010 = songs_FT"
   ]
  },
  {
   "cell_type": "markdown",
   "metadata": {},
   "source": [
    "Get rid of ' FT. '"
   ]
  },
  {
   "cell_type": "code",
   "execution_count": 18,
   "metadata": {},
   "outputs": [
    {
     "name": "stderr",
     "output_type": "stream",
     "text": [
      "C:\\DataScience\\lib\\site-packages\\ipykernel_launcher.py:8: SettingWithCopyWarning: \n",
      "A value is trying to be set on a copy of a slice from a DataFrame\n",
      "\n",
      "See the caveats in the documentation: http://pandas.pydata.org/pandas-docs/stable/indexing.html#indexing-view-versus-copy\n",
      "  \n"
     ]
    }
   ],
   "source": [
    "songs_FTperiod = songs_df010\n",
    "\n",
    "for i in range(len(songs_FTperiod['Artist'])):\n",
    "    artist = songs_FTperiod['Artist'].iloc[i]\n",
    "    if artist.find(' FT. ') != -1:\n",
    "        breakpoint = artist.find(' FT. ')\n",
    "        keep = artist[:breakpoint]\n",
    "        songs_FTperiod['Artist'].iloc[i] = keep\n",
    "        \n",
    "songs_df011 = songs_FTperiod"
   ]
  },
  {
   "cell_type": "markdown",
   "metadata": {},
   "source": [
    "Get rid of ' FEAT '"
   ]
  },
  {
   "cell_type": "code",
   "execution_count": 19,
   "metadata": {},
   "outputs": [
    {
     "name": "stderr",
     "output_type": "stream",
     "text": [
      "C:\\DataScience\\lib\\site-packages\\ipykernel_launcher.py:8: SettingWithCopyWarning: \n",
      "A value is trying to be set on a copy of a slice from a DataFrame\n",
      "\n",
      "See the caveats in the documentation: http://pandas.pydata.org/pandas-docs/stable/indexing.html#indexing-view-versus-copy\n",
      "  \n"
     ]
    }
   ],
   "source": [
    "songs_FEAT = songs_df011\n",
    "\n",
    "for i in range(len(songs_FEAT['Artist'])):\n",
    "    artist = songs_FEAT['Artist'].iloc[i]\n",
    "    if artist.find(' FEAT ') != -1:\n",
    "        breakpoint = artist.find(' FEAT ')\n",
    "        keep = artist[:breakpoint]\n",
    "        songs_FEAT['Artist'].iloc[i] = keep\n",
    "        \n",
    "songs_df012 = songs_FEAT"
   ]
  },
  {
   "cell_type": "markdown",
   "metadata": {},
   "source": [
    "Get rid of ' FEAT. '"
   ]
  },
  {
   "cell_type": "code",
   "execution_count": 20,
   "metadata": {
    "scrolled": true
   },
   "outputs": [
    {
     "name": "stderr",
     "output_type": "stream",
     "text": [
      "C:\\DataScience\\lib\\site-packages\\ipykernel_launcher.py:8: SettingWithCopyWarning: \n",
      "A value is trying to be set on a copy of a slice from a DataFrame\n",
      "\n",
      "See the caveats in the documentation: http://pandas.pydata.org/pandas-docs/stable/indexing.html#indexing-view-versus-copy\n",
      "  \n"
     ]
    }
   ],
   "source": [
    "songs_FEATperiod = songs_df012\n",
    "\n",
    "for i in range(len(songs_FEATperiod['Artist'])):\n",
    "    artist = songs_FEATperiod['Artist'].iloc[i]\n",
    "    if artist.find(' FEAT. ') != -1:\n",
    "        breakpoint = artist.find(' FEAT. ')\n",
    "        keep = artist[:breakpoint]\n",
    "        songs_FEATperiod['Artist'].iloc[i] = keep\n",
    "        \n",
    "songs_df013 = songs_FEATperiod"
   ]
  },
  {
   "cell_type": "markdown",
   "metadata": {},
   "source": [
    "Get rid of 'AND'"
   ]
  },
  {
   "cell_type": "code",
   "execution_count": 21,
   "metadata": {},
   "outputs": [
    {
     "name": "stderr",
     "output_type": "stream",
     "text": [
      "C:\\DataScience\\lib\\site-packages\\ipykernel_launcher.py:8: SettingWithCopyWarning: \n",
      "A value is trying to be set on a copy of a slice from a DataFrame\n",
      "\n",
      "See the caveats in the documentation: http://pandas.pydata.org/pandas-docs/stable/indexing.html#indexing-view-versus-copy\n",
      "  \n"
     ]
    }
   ],
   "source": [
    "songs_ANDartist = songs_df013\n",
    "\n",
    "for i in range(len(songs_ANDartist['Artist'])):\n",
    "    artist = songs_ANDartist['Artist'].iloc[i]\n",
    "    if artist.find(' AND ') != -1:\n",
    "        breakpoint = artist.find(' AND ')\n",
    "        keep = artist[:breakpoint]\n",
    "        songs_ANDartist['Artist'].iloc[i] = keep\n",
    "        \n",
    "songs_df014 = songs_ANDartist"
   ]
  },
  {
   "cell_type": "markdown",
   "metadata": {},
   "source": [
    "Change N' to NG"
   ]
  },
  {
   "cell_type": "code",
   "execution_count": 22,
   "metadata": {},
   "outputs": [
    {
     "name": "stderr",
     "output_type": "stream",
     "text": [
      "C:\\DataScience\\lib\\site-packages\\ipykernel_launcher.py:7: SettingWithCopyWarning: \n",
      "A value is trying to be set on a copy of a slice from a DataFrame\n",
      "\n",
      "See the caveats in the documentation: http://pandas.pydata.org/pandas-docs/stable/indexing.html#indexing-view-versus-copy\n",
      "  import sys\n"
     ]
    }
   ],
   "source": [
    "songs_NNG = songs_df014\n",
    "\n",
    "for i in range(len(songs_NNG['Title'])):\n",
    "    title = songs_NNG['Title'].iloc[i]\n",
    "    if title.find('N\\' ') != -1:\n",
    "        keep = title.replace('N\\' ','NG ')\n",
    "        songs_NNG['Title'].iloc[i] = keep\n",
    "        \n",
    "songs_df015 = songs_NNG"
   ]
  },
  {
   "cell_type": "markdown",
   "metadata": {},
   "source": [
    "Remove ' from title"
   ]
  },
  {
   "cell_type": "code",
   "execution_count": 23,
   "metadata": {
    "scrolled": true
   },
   "outputs": [
    {
     "name": "stderr",
     "output_type": "stream",
     "text": [
      "C:\\DataScience\\lib\\site-packages\\ipykernel_launcher.py:7: SettingWithCopyWarning: \n",
      "A value is trying to be set on a copy of a slice from a DataFrame\n",
      "\n",
      "See the caveats in the documentation: http://pandas.pydata.org/pandas-docs/stable/indexing.html#indexing-view-versus-copy\n",
      "  import sys\n"
     ]
    }
   ],
   "source": [
    "songs_apostrophe = songs_df015\n",
    "\n",
    "for i in range(len(songs_apostrophe['Title'])):\n",
    "    title = songs_apostrophe['Title'].iloc[i]\n",
    "    if title.find('\\'') != -1:\n",
    "        keep = title.replace('\\'','')\n",
    "        songs_apostrophe['Title'].iloc[i] = keep\n",
    "        \n",
    "songs_df016 = songs_apostrophe"
   ]
  },
  {
   "cell_type": "markdown",
   "metadata": {},
   "source": [
    "Replace & with AND in the Title"
   ]
  },
  {
   "cell_type": "code",
   "execution_count": 24,
   "metadata": {},
   "outputs": [
    {
     "name": "stderr",
     "output_type": "stream",
     "text": [
      "C:\\DataScience\\lib\\site-packages\\ipykernel_launcher.py:7: SettingWithCopyWarning: \n",
      "A value is trying to be set on a copy of a slice from a DataFrame\n",
      "\n",
      "See the caveats in the documentation: http://pandas.pydata.org/pandas-docs/stable/indexing.html#indexing-view-versus-copy\n",
      "  import sys\n"
     ]
    }
   ],
   "source": [
    "songs_ANDtitle = songs_df016\n",
    "\n",
    "for i in range(len(songs_ANDtitle['Title'])):\n",
    "    title = songs_ANDtitle['Title'].iloc[i]\n",
    "    if title.find('&') != -1:\n",
    "        keep = title.replace('&','AND')\n",
    "        songs_ANDtitle['Title'].iloc[i] = keep\n",
    "        \n",
    "songs_df017 = songs_ANDtitle"
   ]
  },
  {
   "cell_type": "markdown",
   "metadata": {},
   "source": [
    "Remove all spaces in Songs and Titles"
   ]
  },
  {
   "cell_type": "code",
   "execution_count": 25,
   "metadata": {},
   "outputs": [
    {
     "name": "stderr",
     "output_type": "stream",
     "text": [
      "C:\\DataScience\\lib\\site-packages\\ipykernel_launcher.py:6: SettingWithCopyWarning: \n",
      "A value is trying to be set on a copy of a slice from a DataFrame\n",
      "\n",
      "See the caveats in the documentation: http://pandas.pydata.org/pandas-docs/stable/indexing.html#indexing-view-versus-copy\n",
      "  \n",
      "C:\\DataScience\\lib\\site-packages\\ipykernel_launcher.py:11: SettingWithCopyWarning: \n",
      "A value is trying to be set on a copy of a slice from a DataFrame\n",
      "\n",
      "See the caveats in the documentation: http://pandas.pydata.org/pandas-docs/stable/indexing.html#indexing-view-versus-copy\n",
      "  # This is added back by InteractiveShellApp.init_path()\n"
     ]
    }
   ],
   "source": [
    "songs_spaces = songs_df017\n",
    "\n",
    "for i in range(len(songs_spaces['Title'])):\n",
    "    title = songs_spaces['Title'].iloc[i]\n",
    "    keep = title.replace(' ','')\n",
    "    songs_spaces['Title'].iloc[i] = keep\n",
    "        \n",
    "for i in range(len(songs_spaces['Artist'])):\n",
    "    artist = songs_spaces['Artist'].iloc[i]\n",
    "    keep = artist.replace(' ','')\n",
    "    songs_spaces['Artist'].iloc[i] = keep\n",
    "    \n",
    "songs_df019 = songs_spaces"
   ]
  },
  {
   "cell_type": "markdown",
   "metadata": {},
   "source": [
    "### Drop Duplicates"
   ]
  },
  {
   "cell_type": "code",
   "execution_count": 34,
   "metadata": {},
   "outputs": [
    {
     "name": "stdout",
     "output_type": "stream",
     "text": [
      "(58714, 3)\n",
      "(34770, 3)\n"
     ]
    }
   ],
   "source": [
    "songs_df020 = songs_df019.drop_duplicates(subset = ['Artist','Title'], keep = 'first')\n",
    "\n",
    "print(songs_df002.shape)\n",
    "print(songs_df020.shape)"
   ]
  },
  {
   "cell_type": "markdown",
   "metadata": {},
   "source": [
    "### Sort & Create Index\n",
    "\n",
    "\n",
    "Sort By Artist"
   ]
  },
  {
   "cell_type": "code",
   "execution_count": 73,
   "metadata": {},
   "outputs": [
    {
     "data": {
      "text/html": [
       "<div>\n",
       "<style scoped>\n",
       "    .dataframe tbody tr th:only-of-type {\n",
       "        vertical-align: middle;\n",
       "    }\n",
       "\n",
       "    .dataframe tbody tr th {\n",
       "        vertical-align: top;\n",
       "    }\n",
       "\n",
       "    .dataframe thead th {\n",
       "        text-align: right;\n",
       "    }\n",
       "</style>\n",
       "<table border=\"1\" class=\"dataframe\">\n",
       "  <thead>\n",
       "    <tr style=\"text-align: right;\">\n",
       "      <th></th>\n",
       "      <th>Artist_Sorted</th>\n",
       "      <th>SongID</th>\n",
       "      <th>Artist</th>\n",
       "      <th>Title</th>\n",
       "    </tr>\n",
       "  </thead>\n",
       "  <tbody>\n",
       "    <tr>\n",
       "      <th>94</th>\n",
       "      <td>0</td>\n",
       "      <td>1</td>\n",
       "      <td>'BIGMAMA'THORNTON-HOUNDDOG[SCKARAOKE]</td>\n",
       "      <td>HOUNDDOG</td>\n",
       "    </tr>\n",
       "    <tr>\n",
       "      <th>95</th>\n",
       "      <td>1</td>\n",
       "      <td>2</td>\n",
       "      <td>'NSYNC</td>\n",
       "      <td>GODMUSTHAVESPENTALITTLEM</td>\n",
       "    </tr>\n",
       "    <tr>\n",
       "      <th>97</th>\n",
       "      <td>2</td>\n",
       "      <td>3</td>\n",
       "      <td>'NSYNC</td>\n",
       "      <td>POP</td>\n",
       "    </tr>\n",
       "    <tr>\n",
       "      <th>96</th>\n",
       "      <td>3</td>\n",
       "      <td>4</td>\n",
       "      <td>'TILTUESDAY</td>\n",
       "      <td>VOICESCARRY</td>\n",
       "    </tr>\n",
       "    <tr>\n",
       "      <th>122</th>\n",
       "      <td>4</td>\n",
       "      <td>18888</td>\n",
       "      <td>10,000MANIACS</td>\n",
       "      <td>BECAUSETHENIGHT</td>\n",
       "    </tr>\n",
       "    <tr>\n",
       "      <th>124</th>\n",
       "      <td>5</td>\n",
       "      <td>96</td>\n",
       "      <td>10,000MANIACS</td>\n",
       "      <td>CANDYEVERYBODYWANTS</td>\n",
       "    </tr>\n",
       "    <tr>\n",
       "      <th>117</th>\n",
       "      <td>6</td>\n",
       "      <td>93</td>\n",
       "      <td>10,000MANIACS</td>\n",
       "      <td>LIKETHEWEATHER</td>\n",
       "    </tr>\n",
       "    <tr>\n",
       "      <th>118</th>\n",
       "      <td>7</td>\n",
       "      <td>94</td>\n",
       "      <td>10,000MANIACS</td>\n",
       "      <td>MORETHANTHIS</td>\n",
       "    </tr>\n",
       "    <tr>\n",
       "      <th>119</th>\n",
       "      <td>8</td>\n",
       "      <td>18887</td>\n",
       "      <td>10,000MANIACS</td>\n",
       "      <td>THESEARETHEDAYS</td>\n",
       "    </tr>\n",
       "    <tr>\n",
       "      <th>102</th>\n",
       "      <td>9</td>\n",
       "      <td>18879</td>\n",
       "      <td>10CC</td>\n",
       "      <td>DONNA</td>\n",
       "    </tr>\n",
       "    <tr>\n",
       "      <th>98</th>\n",
       "      <td>10</td>\n",
       "      <td>18880</td>\n",
       "      <td>10CC</td>\n",
       "      <td>DREADLOCKHOLIDAY</td>\n",
       "    </tr>\n",
       "    <tr>\n",
       "      <th>104</th>\n",
       "      <td>11</td>\n",
       "      <td>18881</td>\n",
       "      <td>10CC</td>\n",
       "      <td>IMNOTINLOVE</td>\n",
       "    </tr>\n",
       "    <tr>\n",
       "      <th>106</th>\n",
       "      <td>12</td>\n",
       "      <td>90</td>\n",
       "      <td>10CC</td>\n",
       "      <td>RUBBERBULLETS</td>\n",
       "    </tr>\n",
       "    <tr>\n",
       "      <th>100</th>\n",
       "      <td>13</td>\n",
       "      <td>18883</td>\n",
       "      <td>10CC</td>\n",
       "      <td>THINGSWEDOFORLOVE</td>\n",
       "    </tr>\n",
       "    <tr>\n",
       "      <th>109</th>\n",
       "      <td>14</td>\n",
       "      <td>18884</td>\n",
       "      <td>10CC</td>\n",
       "      <td>WALLSTREETSHUFFLE</td>\n",
       "    </tr>\n",
       "    <tr>\n",
       "      <th>111</th>\n",
       "      <td>15</td>\n",
       "      <td>91</td>\n",
       "      <td>10YEARS</td>\n",
       "      <td>BEAUTIFUL</td>\n",
       "    </tr>\n",
       "    <tr>\n",
       "      <th>112</th>\n",
       "      <td>16</td>\n",
       "      <td>18885</td>\n",
       "      <td>10YEARS</td>\n",
       "      <td>THROUGHTHEIRIS</td>\n",
       "    </tr>\n",
       "    <tr>\n",
       "      <th>114</th>\n",
       "      <td>17</td>\n",
       "      <td>18886</td>\n",
       "      <td>10YEARS</td>\n",
       "      <td>WASTELAND</td>\n",
       "    </tr>\n",
       "    <tr>\n",
       "      <th>134</th>\n",
       "      <td>18</td>\n",
       "      <td>18902</td>\n",
       "      <td>112</td>\n",
       "      <td>CUPID</td>\n",
       "    </tr>\n",
       "    <tr>\n",
       "      <th>137</th>\n",
       "      <td>19</td>\n",
       "      <td>18903</td>\n",
       "      <td>112</td>\n",
       "      <td>ITSOVERNOW</td>\n",
       "    </tr>\n",
       "    <tr>\n",
       "      <th>141</th>\n",
       "      <td>20</td>\n",
       "      <td>18904</td>\n",
       "      <td>112</td>\n",
       "      <td>PEACHESANDCREAM</td>\n",
       "    </tr>\n",
       "    <tr>\n",
       "      <th>145</th>\n",
       "      <td>21</td>\n",
       "      <td>18905</td>\n",
       "      <td>112</td>\n",
       "      <td>UALREADYKNOW</td>\n",
       "    </tr>\n",
       "    <tr>\n",
       "      <th>148</th>\n",
       "      <td>22</td>\n",
       "      <td>369</td>\n",
       "      <td>12GAUGE</td>\n",
       "      <td>DUNKIEBUTT</td>\n",
       "    </tr>\n",
       "    <tr>\n",
       "      <th>151</th>\n",
       "      <td>23</td>\n",
       "      <td>370</td>\n",
       "      <td>12STONES</td>\n",
       "      <td>FARAWAY</td>\n",
       "    </tr>\n",
       "    <tr>\n",
       "      <th>152</th>\n",
       "      <td>24</td>\n",
       "      <td>18907</td>\n",
       "      <td>12STONES</td>\n",
       "      <td>WEAREONE</td>\n",
       "    </tr>\n",
       "    <tr>\n",
       "      <th>154</th>\n",
       "      <td>25</td>\n",
       "      <td>1117</td>\n",
       "      <td>1755</td>\n",
       "      <td>LEMONDEABIENCHANGER</td>\n",
       "    </tr>\n",
       "    <tr>\n",
       "      <th>157</th>\n",
       "      <td>26</td>\n",
       "      <td>18909</td>\n",
       "      <td>1910FRUITGUMCO</td>\n",
       "      <td>SIMONSAYS</td>\n",
       "    </tr>\n",
       "    <tr>\n",
       "      <th>159</th>\n",
       "      <td>27</td>\n",
       "      <td>1327</td>\n",
       "      <td>1910FRUITGUMCOMPANY</td>\n",
       "      <td>SIMONSAYS</td>\n",
       "    </tr>\n",
       "    <tr>\n",
       "      <th>164</th>\n",
       "      <td>28</td>\n",
       "      <td>1342</td>\n",
       "      <td>1927</td>\n",
       "      <td>THATSWHENITHINKOFYOU</td>\n",
       "    </tr>\n",
       "    <tr>\n",
       "      <th>165</th>\n",
       "      <td>29</td>\n",
       "      <td>1401</td>\n",
       "      <td>1975</td>\n",
       "      <td>ANTICHRIST</td>\n",
       "    </tr>\n",
       "    <tr>\n",
       "      <th>...</th>\n",
       "      <td>...</td>\n",
       "      <td>...</td>\n",
       "      <td>...</td>\n",
       "      <td>...</td>\n",
       "    </tr>\n",
       "    <tr>\n",
       "      <th>58400</th>\n",
       "      <td>34740</td>\n",
       "      <td>57236</td>\n",
       "      <td>ZUTONS</td>\n",
       "      <td>VALERIE</td>\n",
       "    </tr>\n",
       "    <tr>\n",
       "      <th>58401</th>\n",
       "      <td>34741</td>\n",
       "      <td>57237</td>\n",
       "      <td>ZWAN</td>\n",
       "      <td>HONESTLY</td>\n",
       "    </tr>\n",
       "    <tr>\n",
       "      <th>58402</th>\n",
       "      <td>34742</td>\n",
       "      <td>57238</td>\n",
       "      <td>ZWAN</td>\n",
       "      <td>LYRIC</td>\n",
       "    </tr>\n",
       "    <tr>\n",
       "      <th>58324</th>\n",
       "      <td>34743</td>\n",
       "      <td>57239</td>\n",
       "      <td>ZZTOP</td>\n",
       "      <td>ALLYOURLOVIN</td>\n",
       "    </tr>\n",
       "    <tr>\n",
       "      <th>58325</th>\n",
       "      <td>34744</td>\n",
       "      <td>57240</td>\n",
       "      <td>ZZTOP</td>\n",
       "      <td>BEERDRINKERSANDHELLRAISERS</td>\n",
       "    </tr>\n",
       "    <tr>\n",
       "      <th>58326</th>\n",
       "      <td>34745</td>\n",
       "      <td>57241</td>\n",
       "      <td>ZZTOP</td>\n",
       "      <td>BLUEJEANBLUES</td>\n",
       "    </tr>\n",
       "    <tr>\n",
       "      <th>58327</th>\n",
       "      <td>34746</td>\n",
       "      <td>57242</td>\n",
       "      <td>ZZTOP</td>\n",
       "      <td>CHEAPSUNGLASSES</td>\n",
       "    </tr>\n",
       "    <tr>\n",
       "      <th>58328</th>\n",
       "      <td>34747</td>\n",
       "      <td>57243</td>\n",
       "      <td>ZZTOP</td>\n",
       "      <td>DOUBLEBACK</td>\n",
       "    </tr>\n",
       "    <tr>\n",
       "      <th>58403</th>\n",
       "      <td>34748</td>\n",
       "      <td>25474</td>\n",
       "      <td>ZZTOP</td>\n",
       "      <td>GIMMEALLYOURLOVIN</td>\n",
       "    </tr>\n",
       "    <tr>\n",
       "      <th>58329</th>\n",
       "      <td>34749</td>\n",
       "      <td>57244</td>\n",
       "      <td>ZZTOP</td>\n",
       "      <td>GIMMEALLYOURLOVING</td>\n",
       "    </tr>\n",
       "    <tr>\n",
       "      <th>58331</th>\n",
       "      <td>34750</td>\n",
       "      <td>57246</td>\n",
       "      <td>ZZTOP</td>\n",
       "      <td>IMBADIMNATIONWIDE</td>\n",
       "    </tr>\n",
       "    <tr>\n",
       "      <th>58330</th>\n",
       "      <td>34751</td>\n",
       "      <td>57245</td>\n",
       "      <td>ZZTOP</td>\n",
       "      <td>ITHANKYOU</td>\n",
       "    </tr>\n",
       "    <tr>\n",
       "      <th>58332</th>\n",
       "      <td>34752</td>\n",
       "      <td>57247</td>\n",
       "      <td>ZZTOP</td>\n",
       "      <td>JESUSJUSTLEFTCHICAGO</td>\n",
       "    </tr>\n",
       "    <tr>\n",
       "      <th>58333</th>\n",
       "      <td>34753</td>\n",
       "      <td>57248</td>\n",
       "      <td>ZZTOP</td>\n",
       "      <td>JUSTGOTPAID</td>\n",
       "    </tr>\n",
       "    <tr>\n",
       "      <th>58334</th>\n",
       "      <td>34754</td>\n",
       "      <td>57249</td>\n",
       "      <td>ZZTOP</td>\n",
       "      <td>LAGRANGE</td>\n",
       "    </tr>\n",
       "    <tr>\n",
       "      <th>58335</th>\n",
       "      <td>34755</td>\n",
       "      <td>57250</td>\n",
       "      <td>ZZTOP</td>\n",
       "      <td>LEGS</td>\n",
       "    </tr>\n",
       "    <tr>\n",
       "      <th>58336</th>\n",
       "      <td>34756</td>\n",
       "      <td>57251</td>\n",
       "      <td>ZZTOP</td>\n",
       "      <td>PEARLNECKLACE</td>\n",
       "    </tr>\n",
       "    <tr>\n",
       "      <th>58337</th>\n",
       "      <td>34757</td>\n",
       "      <td>57252</td>\n",
       "      <td>ZZTOP</td>\n",
       "      <td>PINCUSHION</td>\n",
       "    </tr>\n",
       "    <tr>\n",
       "      <th>58338</th>\n",
       "      <td>34758</td>\n",
       "      <td>57253</td>\n",
       "      <td>ZZTOP</td>\n",
       "      <td>ROUGHBOYS</td>\n",
       "    </tr>\n",
       "    <tr>\n",
       "      <th>58339</th>\n",
       "      <td>34759</td>\n",
       "      <td>57254</td>\n",
       "      <td>ZZTOP</td>\n",
       "      <td>SHARPDRESSEDMAN</td>\n",
       "    </tr>\n",
       "    <tr>\n",
       "      <th>58341</th>\n",
       "      <td>34760</td>\n",
       "      <td>57255</td>\n",
       "      <td>ZZTOP</td>\n",
       "      <td>TUSH</td>\n",
       "    </tr>\n",
       "    <tr>\n",
       "      <th>58340</th>\n",
       "      <td>34761</td>\n",
       "      <td>57256</td>\n",
       "      <td>ZZTOP</td>\n",
       "      <td>TVDINNER</td>\n",
       "    </tr>\n",
       "    <tr>\n",
       "      <th>58342</th>\n",
       "      <td>34762</td>\n",
       "      <td>57257</td>\n",
       "      <td>ZZTOP</td>\n",
       "      <td>VELCROFLY</td>\n",
       "    </tr>\n",
       "    <tr>\n",
       "      <th>58343</th>\n",
       "      <td>34763</td>\n",
       "      <td>57258</td>\n",
       "      <td>ZZTOP</td>\n",
       "      <td>VIVALASVEGAS</td>\n",
       "    </tr>\n",
       "    <tr>\n",
       "      <th>58344</th>\n",
       "      <td>34764</td>\n",
       "      <td>57259</td>\n",
       "      <td>ZZTOP</td>\n",
       "      <td>WAITINGFORTHEBUS</td>\n",
       "    </tr>\n",
       "    <tr>\n",
       "      <th>58345</th>\n",
       "      <td>34765</td>\n",
       "      <td>57260</td>\n",
       "      <td>ZZTOP</td>\n",
       "      <td>WHATSUPWITHTHAT</td>\n",
       "    </tr>\n",
       "    <tr>\n",
       "      <th>58404</th>\n",
       "      <td>34766</td>\n",
       "      <td>57261</td>\n",
       "      <td>ZZWARD</td>\n",
       "      <td>365DAYS</td>\n",
       "    </tr>\n",
       "    <tr>\n",
       "      <th>58710</th>\n",
       "      <td>34767</td>\n",
       "      <td>25503</td>\n",
       "      <td>ÁLVARODÁVILA</td>\n",
       "      <td>LACULPABLE</td>\n",
       "    </tr>\n",
       "    <tr>\n",
       "      <th>58712</th>\n",
       "      <td>34768</td>\n",
       "      <td>57262</td>\n",
       "      <td>ÉRICLAPOINTE</td>\n",
       "      <td>1500MILES</td>\n",
       "    </tr>\n",
       "    <tr>\n",
       "      <th>58713</th>\n",
       "      <td>34769</td>\n",
       "      <td>57263</td>\n",
       "      <td>ÉTIENNE</td>\n",
       "      <td>ONTVAGAGNER</td>\n",
       "    </tr>\n",
       "  </tbody>\n",
       "</table>\n",
       "<p>34770 rows × 4 columns</p>\n",
       "</div>"
      ],
      "text/plain": [
       "       Artist_Sorted  SongID                                 Artist  \\\n",
       "94                 0       1  'BIGMAMA'THORNTON-HOUNDDOG[SCKARAOKE]   \n",
       "95                 1       2                                 'NSYNC   \n",
       "97                 2       3                                 'NSYNC   \n",
       "96                 3       4                            'TILTUESDAY   \n",
       "122                4   18888                          10,000MANIACS   \n",
       "124                5      96                          10,000MANIACS   \n",
       "117                6      93                          10,000MANIACS   \n",
       "118                7      94                          10,000MANIACS   \n",
       "119                8   18887                          10,000MANIACS   \n",
       "102                9   18879                                   10CC   \n",
       "98                10   18880                                   10CC   \n",
       "104               11   18881                                   10CC   \n",
       "106               12      90                                   10CC   \n",
       "100               13   18883                                   10CC   \n",
       "109               14   18884                                   10CC   \n",
       "111               15      91                                10YEARS   \n",
       "112               16   18885                                10YEARS   \n",
       "114               17   18886                                10YEARS   \n",
       "134               18   18902                                    112   \n",
       "137               19   18903                                    112   \n",
       "141               20   18904                                    112   \n",
       "145               21   18905                                    112   \n",
       "148               22     369                                12GAUGE   \n",
       "151               23     370                               12STONES   \n",
       "152               24   18907                               12STONES   \n",
       "154               25    1117                                   1755   \n",
       "157               26   18909                         1910FRUITGUMCO   \n",
       "159               27    1327                    1910FRUITGUMCOMPANY   \n",
       "164               28    1342                                   1927   \n",
       "165               29    1401                                   1975   \n",
       "...              ...     ...                                    ...   \n",
       "58400          34740   57236                                 ZUTONS   \n",
       "58401          34741   57237                                   ZWAN   \n",
       "58402          34742   57238                                   ZWAN   \n",
       "58324          34743   57239                                  ZZTOP   \n",
       "58325          34744   57240                                  ZZTOP   \n",
       "58326          34745   57241                                  ZZTOP   \n",
       "58327          34746   57242                                  ZZTOP   \n",
       "58328          34747   57243                                  ZZTOP   \n",
       "58403          34748   25474                                  ZZTOP   \n",
       "58329          34749   57244                                  ZZTOP   \n",
       "58331          34750   57246                                  ZZTOP   \n",
       "58330          34751   57245                                  ZZTOP   \n",
       "58332          34752   57247                                  ZZTOP   \n",
       "58333          34753   57248                                  ZZTOP   \n",
       "58334          34754   57249                                  ZZTOP   \n",
       "58335          34755   57250                                  ZZTOP   \n",
       "58336          34756   57251                                  ZZTOP   \n",
       "58337          34757   57252                                  ZZTOP   \n",
       "58338          34758   57253                                  ZZTOP   \n",
       "58339          34759   57254                                  ZZTOP   \n",
       "58341          34760   57255                                  ZZTOP   \n",
       "58340          34761   57256                                  ZZTOP   \n",
       "58342          34762   57257                                  ZZTOP   \n",
       "58343          34763   57258                                  ZZTOP   \n",
       "58344          34764   57259                                  ZZTOP   \n",
       "58345          34765   57260                                  ZZTOP   \n",
       "58404          34766   57261                                 ZZWARD   \n",
       "58710          34767   25503                           ÁLVARODÁVILA   \n",
       "58712          34768   57262                           ÉRICLAPOINTE   \n",
       "58713          34769   57263                                ÉTIENNE   \n",
       "\n",
       "                            Title  \n",
       "94                       HOUNDDOG  \n",
       "95       GODMUSTHAVESPENTALITTLEM  \n",
       "97                            POP  \n",
       "96                    VOICESCARRY  \n",
       "122               BECAUSETHENIGHT  \n",
       "124           CANDYEVERYBODYWANTS  \n",
       "117                LIKETHEWEATHER  \n",
       "118                  MORETHANTHIS  \n",
       "119               THESEARETHEDAYS  \n",
       "102                         DONNA  \n",
       "98               DREADLOCKHOLIDAY  \n",
       "104                   IMNOTINLOVE  \n",
       "106                 RUBBERBULLETS  \n",
       "100             THINGSWEDOFORLOVE  \n",
       "109             WALLSTREETSHUFFLE  \n",
       "111                     BEAUTIFUL  \n",
       "112                THROUGHTHEIRIS  \n",
       "114                     WASTELAND  \n",
       "134                         CUPID  \n",
       "137                    ITSOVERNOW  \n",
       "141               PEACHESANDCREAM  \n",
       "145                  UALREADYKNOW  \n",
       "148                    DUNKIEBUTT  \n",
       "151                       FARAWAY  \n",
       "152                      WEAREONE  \n",
       "154           LEMONDEABIENCHANGER  \n",
       "157                     SIMONSAYS  \n",
       "159                     SIMONSAYS  \n",
       "164          THATSWHENITHINKOFYOU  \n",
       "165                    ANTICHRIST  \n",
       "...                           ...  \n",
       "58400                     VALERIE  \n",
       "58401                    HONESTLY  \n",
       "58402                       LYRIC  \n",
       "58324                ALLYOURLOVIN  \n",
       "58325  BEERDRINKERSANDHELLRAISERS  \n",
       "58326               BLUEJEANBLUES  \n",
       "58327             CHEAPSUNGLASSES  \n",
       "58328                  DOUBLEBACK  \n",
       "58403           GIMMEALLYOURLOVIN  \n",
       "58329          GIMMEALLYOURLOVING  \n",
       "58331           IMBADIMNATIONWIDE  \n",
       "58330                   ITHANKYOU  \n",
       "58332        JESUSJUSTLEFTCHICAGO  \n",
       "58333                 JUSTGOTPAID  \n",
       "58334                    LAGRANGE  \n",
       "58335                        LEGS  \n",
       "58336               PEARLNECKLACE  \n",
       "58337                  PINCUSHION  \n",
       "58338                   ROUGHBOYS  \n",
       "58339             SHARPDRESSEDMAN  \n",
       "58341                        TUSH  \n",
       "58340                    TVDINNER  \n",
       "58342                   VELCROFLY  \n",
       "58343                VIVALASVEGAS  \n",
       "58344            WAITINGFORTHEBUS  \n",
       "58345             WHATSUPWITHTHAT  \n",
       "58404                     365DAYS  \n",
       "58710                  LACULPABLE  \n",
       "58712                   1500MILES  \n",
       "58713                 ONTVAGAGNER  \n",
       "\n",
       "[34770 rows x 4 columns]"
      ]
     },
     "execution_count": 73,
     "metadata": {},
     "output_type": "execute_result"
    }
   ],
   "source": [
    "songs_df021 = songs_df020.sort_values(['Artist','Title'])\n",
    "\n",
    "songs_df021.insert(0, 'Artist_Sorted', range(0, 0 + len(songs_df021)))\n",
    "songs_df021"
   ]
  },
  {
   "cell_type": "markdown",
   "metadata": {},
   "source": [
    "Sort By Song Title"
   ]
  },
  {
   "cell_type": "code",
   "execution_count": 82,
   "metadata": {},
   "outputs": [
    {
     "data": {
      "text/html": [
       "<div>\n",
       "<style scoped>\n",
       "    .dataframe tbody tr th:only-of-type {\n",
       "        vertical-align: middle;\n",
       "    }\n",
       "\n",
       "    .dataframe tbody tr th {\n",
       "        vertical-align: top;\n",
       "    }\n",
       "\n",
       "    .dataframe thead th {\n",
       "        text-align: right;\n",
       "    }\n",
       "</style>\n",
       "<table border=\"1\" class=\"dataframe\">\n",
       "  <thead>\n",
       "    <tr style=\"text-align: right;\">\n",
       "      <th></th>\n",
       "      <th>Title_Sorted</th>\n",
       "      <th>Artist_Sorted</th>\n",
       "      <th>SongID</th>\n",
       "      <th>Artist</th>\n",
       "      <th>Title</th>\n",
       "    </tr>\n",
       "  </thead>\n",
       "  <tbody>\n",
       "    <tr>\n",
       "      <th>42753</th>\n",
       "      <td>0</td>\n",
       "      <td>23967</td>\n",
       "      <td>41681</td>\n",
       "      <td>NELLY</td>\n",
       "      <td>#1</td>\n",
       "    </tr>\n",
       "    <tr>\n",
       "      <th>39444</th>\n",
       "      <td>1</td>\n",
       "      <td>21802</td>\n",
       "      <td>38208</td>\n",
       "      <td>MARIAHCAREY</td>\n",
       "      <td>#BEAUTIFUL</td>\n",
       "    </tr>\n",
       "    <tr>\n",
       "      <th>13626</th>\n",
       "      <td>2</td>\n",
       "      <td>6267</td>\n",
       "      <td>4062</td>\n",
       "      <td>CHAINSMOKERS</td>\n",
       "      <td>#SELFIE</td>\n",
       "    </tr>\n",
       "    <tr>\n",
       "      <th>57893</th>\n",
       "      <td>3</td>\n",
       "      <td>34301</td>\n",
       "      <td>56754</td>\n",
       "      <td>WILLIAMFT..JUSTINBIEBER</td>\n",
       "      <td>#THATPOWER</td>\n",
       "    </tr>\n",
       "    <tr>\n",
       "      <th>57957</th>\n",
       "      <td>4</td>\n",
       "      <td>34280</td>\n",
       "      <td>56806</td>\n",
       "      <td>WILL.I.AM</td>\n",
       "      <td>#THATPOWER</td>\n",
       "    </tr>\n",
       "  </tbody>\n",
       "</table>\n",
       "</div>"
      ],
      "text/plain": [
       "       Title_Sorted  Artist_Sorted  SongID                   Artist  \\\n",
       "42753             0          23967   41681                    NELLY   \n",
       "39444             1          21802   38208              MARIAHCAREY   \n",
       "13626             2           6267    4062             CHAINSMOKERS   \n",
       "57893             3          34301   56754  WILLIAMFT..JUSTINBIEBER   \n",
       "57957             4          34280   56806                WILL.I.AM   \n",
       "\n",
       "            Title  \n",
       "42753          #1  \n",
       "39444  #BEAUTIFUL  \n",
       "13626     #SELFIE  \n",
       "57893  #THATPOWER  \n",
       "57957  #THATPOWER  "
      ]
     },
     "execution_count": 82,
     "metadata": {},
     "output_type": "execute_result"
    }
   ],
   "source": [
    "songs_df022 = songs_df021.sort_values(['Title'])\n",
    "\n",
    "songs_df022.insert(0, 'Title_Sorted', range(0, 0 + len(songs_df022)))\n",
    "songs_df022.head()"
   ]
  },
  {
   "cell_type": "markdown",
   "metadata": {},
   "source": [
    "### Undo Changes to Required Info"
   ]
  },
  {
   "cell_type": "code",
   "execution_count": 87,
   "metadata": {},
   "outputs": [
    {
     "name": "stdout",
     "output_type": "stream",
     "text": [
      "(34770, 3)\n"
     ]
    },
    {
     "data": {
      "text/html": [
       "<div>\n",
       "<style scoped>\n",
       "    .dataframe tbody tr th:only-of-type {\n",
       "        vertical-align: middle;\n",
       "    }\n",
       "\n",
       "    .dataframe tbody tr th {\n",
       "        vertical-align: top;\n",
       "    }\n",
       "\n",
       "    .dataframe thead th {\n",
       "        text-align: right;\n",
       "    }\n",
       "</style>\n",
       "<table border=\"1\" class=\"dataframe\">\n",
       "  <thead>\n",
       "    <tr style=\"text-align: right;\">\n",
       "      <th></th>\n",
       "      <th>SongID</th>\n",
       "      <th>Artist</th>\n",
       "      <th>Title</th>\n",
       "    </tr>\n",
       "  </thead>\n",
       "  <tbody>\n",
       "    <tr>\n",
       "      <th>82</th>\n",
       "      <td>19098</td>\n",
       "      <td>ABBA</td>\n",
       "      <td>Bang A Boomerang</td>\n",
       "    </tr>\n",
       "    <tr>\n",
       "      <th>84</th>\n",
       "      <td>19105</td>\n",
       "      <td>ABBA</td>\n",
       "      <td>Fernando</td>\n",
       "    </tr>\n",
       "    <tr>\n",
       "      <th>86</th>\n",
       "      <td>19113</td>\n",
       "      <td>ABBA</td>\n",
       "      <td>I Do I Do I Do I Do</td>\n",
       "    </tr>\n",
       "    <tr>\n",
       "      <th>88</th>\n",
       "      <td>19127</td>\n",
       "      <td>ABBA</td>\n",
       "      <td>Mama Mia</td>\n",
       "    </tr>\n",
       "    <tr>\n",
       "      <th>90</th>\n",
       "      <td>19140</td>\n",
       "      <td>ABBA</td>\n",
       "      <td>Ring Ring</td>\n",
       "    </tr>\n",
       "  </tbody>\n",
       "</table>\n",
       "</div>"
      ],
      "text/plain": [
       "    SongID Artist                Title\n",
       "82   19098   ABBA     Bang A Boomerang\n",
       "84   19105   ABBA             Fernando\n",
       "86   19113   ABBA  I Do I Do I Do I Do\n",
       "88   19127   ABBA             Mama Mia\n",
       "90   19140   ABBA            Ring Ring"
      ]
     },
     "execution_count": 87,
     "metadata": {},
     "output_type": "execute_result"
    }
   ],
   "source": [
    "# Dataframe prior to changing required song details\n",
    "songs_neededdetails = songs_df006\n",
    "\n",
    "# Dataframe with filtered songs\n",
    "songs_duplicatesremoved = songs_df020\n",
    "\n",
    "# Filter dataframe with required details\n",
    "songs_output = songs_neededdetails[songs_neededdetails['SongID'].isin(songs_duplicatesremoved['SongID'])]\n",
    "print(songs_output.shape)\n",
    "songs_output.head()\n",
    "\n",
    "# Note you may need to rerun songsdf001 - df006 because uppercase change may be global"
   ]
  },
  {
   "cell_type": "markdown",
   "metadata": {},
   "source": [
    "### Add Colums for Sorting"
   ]
  },
  {
   "cell_type": "code",
   "execution_count": 90,
   "metadata": {},
   "outputs": [
    {
     "name": "stdout",
     "output_type": "stream",
     "text": [
      "       SongID  Artist_Sorted  Title_Sorted\n",
      "42753   41681          23967             0\n",
      "39444   38208          21802             1\n",
      "13626    4062           6267             2\n",
      "57893   56754          34301             3\n",
      "57957   56806          34280             4\n",
      "(34770, 5)\n",
      "   SongID Artist                Title  Artist_Sorted  Title_Sorted\n",
      "0   19098   ABBA     Bang A Boomerang            305          2528\n",
      "1   19105   ABBA             Fernando            311          8943\n",
      "2   19113   ABBA  I Do I Do I Do I Do            320         12978\n",
      "3   19127   ABBA             Mama Mia            333         19211\n",
      "4   19140   ABBA            Ring Ring            345         24405\n"
     ]
    }
   ],
   "source": [
    "songs_sortindexes = songs_df022[['Title_Sorted','Artist_Sorted','SongID']]\n",
    "songs_sortindexes = songs_sortindexes[['SongID', 'Artist_Sorted', 'Title_Sorted']]\n",
    "print(songs_sortindexes.head())\n",
    "\n",
    "songs_output_sorted = songs_output.merge(songs_sortindexes, on = 'SongID', how = 'left')\n",
    "print(songs_output_sorted.shape)\n",
    "print(songs_output_sorted.head())"
   ]
  },
  {
   "cell_type": "markdown",
   "metadata": {},
   "source": [
    "### Output the file"
   ]
  },
  {
   "cell_type": "code",
   "execution_count": 91,
   "metadata": {},
   "outputs": [],
   "source": [
    "songs_output_sorted.to_csv('Songs_output.csv')"
   ]
  }
 ],
 "metadata": {
  "kernelspec": {
   "display_name": "Python 3",
   "language": "python",
   "name": "python3"
  },
  "language_info": {
   "codemirror_mode": {
    "name": "ipython",
    "version": 3
   },
   "file_extension": ".py",
   "mimetype": "text/x-python",
   "name": "python",
   "nbconvert_exporter": "python",
   "pygments_lexer": "ipython3",
   "version": "3.7.1"
  }
 },
 "nbformat": 4,
 "nbformat_minor": 2
}
